{
 "cells": [
  {
   "cell_type": "code",
   "execution_count": null,
   "id": "bb565fc7-2d51-4276-bb5d-a40ea6149a77",
   "metadata": {},
   "outputs": [],
   "source": [
    "#1 In Python, what is the difference between a built-in function and a user-defined function? Provide anexample of each.\n",
    "\"\"\"\n",
    "build in function =If you define the function yourself, it is a user-defined function.\n",
    "len(), str(), int(), float(), range(), max(), min(), sum(), open(), sorted(), and type().\n",
    "\n",
    "On the other hand, \n",
    "\n",
    "user define function= the Python function that come along with Python are known as in-built functions\n",
    "example\n",
    "def addition(NUM1,NUM2):\n",
    "  SUM=NUM1+NUM2\n",
    "addition(6,9)\n",
    "\"\"\""
   ]
  },
  {
   "cell_type": "code",
   "execution_count": 28,
   "id": "6b1fe8ad-599c-4450-94f0-92e387635834",
   "metadata": {
    "tags": []
   },
   "outputs": [
    {
     "name": "stdout",
     "output_type": "stream",
     "text": [
      "(1, 2, 3, 4, 5, 6)\n",
      "{'a': 1, 'b': 2}\n"
     ]
    }
   ],
   "source": [
    "#2. How can you pass arguments to a function in Python? Explain the difference between positionalarguments and keyword arguments.\n",
    "\"\"\"\n",
    "In Python, arguments can be passed to a function in two ways: positional arguments or keyword arguments:\n",
    "A positional argument is an argument that is passed to a function based on its position in the argument list. \n",
    "A Keyword argument is passed to a function by specifying the parameter name and its corresponding value.\n",
    "\"\"\"\n",
    "def hello(*argu,**keyword):\n",
    "    print(argu)\n",
    "    print(keyword)\n",
    "list1=[1,2,3,4,5,6]\n",
    "\n",
    "dict1={\"a\":1,\"b\":2}\n",
    "\n",
    "hello(*list1,**dict1)"
   ]
  },
  {
   "cell_type": "code",
   "execution_count": null,
   "id": "8347f00a-5f2a-4785-a256-d488fa7c9a84",
   "metadata": {},
   "outputs": [],
   "source": [
    "#3  What is the purpose of the return statement in a function? Can a function have multiple returnstatements? Explain with an example.\n",
    "'''\n",
    "In Python, the return statement exits a function and returns the specified value to the caller. \n",
    "Multiple return statements may exist in a function, \n",
    "but only the one that fulfils the specified condition first is executed.\n",
    "'''"
   ]
  },
  {
   "cell_type": "code",
   "execution_count": null,
   "id": "067dda7f-2f21-4415-b245-183a6f33ab6c",
   "metadata": {},
   "outputs": [],
   "source": [
    "#4 What are lambda functions in Python? How are they different from regular functions? Provide an example where a lambda function can be useful.\n",
    "\"\"\"\n",
    "Lambda functions are similar to user-defined functions but without a name.\n",
    "They're commonly referred to as anonymous functions. \n",
    "Lambda functions are efficient whenever you want to create a function that will only contain simple expressions – that is, \n",
    "expressions that are usually a single line of a statement.\n",
    "\n",
    "\n",
    "Lambda functions have a more concise syntax than regular functions, \n",
    "making them suitable for simple functions that can be defined in a single line of code. Regular functions, \n",
    "on the other hand, can contain multiple statements and are more suitable for complex logic.\n",
    "\n",
    "\"\"\""
   ]
  },
  {
   "cell_type": "code",
   "execution_count": null,
   "id": "a4bb3a5f-1e5a-45ab-9e86-42117415e4a8",
   "metadata": {},
   "outputs": [],
   "source": [
    "#5 How does the concept of \"scope\" apply to functions in Python? Explain the difference between localscope and global scope.\n",
    "\"\"\"\n",
    "Python Global variables are those which are not defined inside any function \n",
    "and have a global scope \n",
    "whereas \n",
    "Python local variables are those which are defined inside a function and their\n",
    "scope is limited to that function only\n",
    "\n",
    "\"\"\""
   ]
  },
  {
   "cell_type": "code",
   "execution_count": null,
   "id": "f6859fd2-d067-4265-9d4a-555c3bf5cfc2",
   "metadata": {},
   "outputs": [],
   "source": [
    "#6 How can you use the \"return\" statement in a Python function to return multiple values?\n",
    "\"\"\"\n",
    "You can use a return statement to return multiple values from a function. \n",
    "To do that, \n",
    "you just need to supply several return values separated by commas.\n",
    "\"\"\""
   ]
  },
  {
   "cell_type": "code",
   "execution_count": null,
   "id": "ba84e8dd-3004-4a73-9cf0-64c0af6a23bf",
   "metadata": {},
   "outputs": [],
   "source": [
    "#7 What is the difference between the \"pass by value\" and \"pass by reference\" concepts when it comes to function arguments in Python?\n",
    "\"\"\"\n",
    "When you pass function arguments by reference, those arguments are only references to existing values.\n",
    "In contrast, when you pass arguments by value, \n",
    "those arguments become independent copies of the original values.\n",
    "\"\"\""
   ]
  },
  {
   "cell_type": "code",
   "execution_count": null,
   "id": "8e1dd7a5-e29a-4413-ae2f-61c949cafe7f",
   "metadata": {},
   "outputs": [],
   "source": [
    "#8 Create a function that can intake integer or decimal value and do following operations:\n",
    "\"\"\"\n",
    "import math\n",
    "returning the exp of 4 \n",
    "print (\"The e**4 value is : \", end=\"\") \n",
    "print (math.exp(4)) \n",
    "\n",
    "# returning the log of 2,3 \n",
    "print (\"The value of log 2 with base 3 is : \", end=\"\") \n",
    "print (math.log(2,3)) \n",
    "\n",
    "# square root:\n",
    "s=4**4\n",
    "print(s)\n",
    "\"\"\"\n",
    "\n"
   ]
  },
  {
   "cell_type": "code",
   "execution_count": 4,
   "id": "72606674-319f-4afe-a812-e2e077018770",
   "metadata": {
    "tags": []
   },
   "outputs": [
    {
     "name": "stdin",
     "output_type": "stream",
     "text": [
      "please enter your first name kishan\n",
      "please enter your last name verma\n"
     ]
    },
    {
     "name": "stdout",
     "output_type": "stream",
     "text": [
      "The first name is kishan and last name is verma\n"
     ]
    }
   ],
   "source": [
    "#9 Create a function that takes a full name as an argument and returns first name and last name.\n",
    "name=input(\"please enter your first name\")\n",
    "name2=input(\"please enter your last name\")\n",
    "print(f\"The first name is {name} and last name is {name2}\")\n"
   ]
  },
  {
   "cell_type": "code",
   "execution_count": null,
   "id": "d25c5aa4-7563-485c-91f7-5c5e72a9ac60",
   "metadata": {},
   "outputs": [],
   "source": []
  }
 ],
 "metadata": {
  "kernelspec": {
   "display_name": "Python 3 (ipykernel)",
   "language": "python",
   "name": "python3"
  },
  "language_info": {
   "codemirror_mode": {
    "name": "ipython",
    "version": 3
   },
   "file_extension": ".py",
   "mimetype": "text/x-python",
   "name": "python",
   "nbconvert_exporter": "python",
   "pygments_lexer": "ipython3",
   "version": "3.11.5"
  }
 },
 "nbformat": 4,
 "nbformat_minor": 5
}
